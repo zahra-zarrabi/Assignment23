{
 "cells": [
  {
   "cell_type": "code",
   "execution_count": 1,
   "id": "9aabb774",
   "metadata": {},
   "outputs": [],
   "source": [
    "import os\n",
    "import cv2"
   ]
  },
  {
   "cell_type": "code",
   "execution_count": 2,
   "id": "a82529d0",
   "metadata": {},
   "outputs": [],
   "source": [
    "all_file='2/MNIST_persian'\n",
    "split_file='2/split_per'"
   ]
  },
  {
   "cell_type": "code",
   "execution_count": 3,
   "id": "0df95544",
   "metadata": {},
   "outputs": [],
   "source": [
    "# os.makedirs(split_file)\n",
    "\n",
    "# print(os.listdir(all_file))"
   ]
  },
  {
   "cell_type": "code",
   "execution_count": 4,
   "id": "d10f1aa6",
   "metadata": {},
   "outputs": [],
   "source": [
    "import shutil\n",
    "all_file='2/MNIST_persian'\n",
    "split_file='2/split_per'\n",
    "if os.path.isdir(split_file):\n",
    "    shutil.rmtree(split_file, ignore_errors=True)\n",
    "os.makedirs(split_file)\n",
    "for m in range(10):\n",
    "    os.makedirs(os.path.join(split_file, str(m)))\n",
    "\n",
    "cnt = 1\n",
    "for indx in range(1,len(os.listdir(all_file))+1):\n",
    "    for indx_img in range(len(os.listdir(split_file))):\n",
    "        src=os.path.join(all_file, str(indx), str(indx_img)+'.jpg')\n",
    "        dst= os.path.join(split_file, str(indx_img), str(cnt)+'.jpg')\n",
    "                         \n",
    "\n",
    "        img = cv2.imread(src)\n",
    "        cv2.imwrite(dst,img)\n",
    "#         os.copy(os.path.join(all_file, indx, str(indx_img)+'.jpg'), os.path.join(split_file, str(indx_img), str(cnt)+'.jpg'))\n",
    "    cnt += 1"
   ]
  },
  {
   "cell_type": "code",
   "execution_count": null,
   "id": "38fe6e61",
   "metadata": {},
   "outputs": [],
   "source": []
  },
  {
   "cell_type": "code",
   "execution_count": null,
   "id": "b0df8da0",
   "metadata": {},
   "outputs": [],
   "source": []
  },
  {
   "cell_type": "code",
   "execution_count": null,
   "id": "d50510d7",
   "metadata": {},
   "outputs": [],
   "source": []
  }
 ],
 "metadata": {
  "kernelspec": {
   "display_name": "Python 3",
   "language": "python",
   "name": "python3"
  },
  "language_info": {
   "codemirror_mode": {
    "name": "ipython",
    "version": 3
   },
   "file_extension": ".py",
   "mimetype": "text/x-python",
   "name": "python",
   "nbconvert_exporter": "python",
   "pygments_lexer": "ipython3",
   "version": "3.6.12"
  }
 },
 "nbformat": 4,
 "nbformat_minor": 5
}
